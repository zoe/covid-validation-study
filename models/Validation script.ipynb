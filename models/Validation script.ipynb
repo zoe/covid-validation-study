{
 "cells": [
  {
   "cell_type": "code",
   "execution_count": null,
   "metadata": {},
   "outputs": [],
   "source": [
    "import pandas as pd\n",
    "from joblib import load\n",
    "from sklearn.metrics import accuracy_score, roc_auc_score, classification_report, precision_score, recall_score,f1_score, roc_curve\n",
    "from sklearn.utils import resample\n",
    "from datetime import datetime, timedelta\n",
    "import numpy as np"
   ]
  },
  {
   "cell_type": "code",
   "execution_count": null,
   "metadata": {},
   "outputs": [],
   "source": [
    "def preproc(data, features, target):\n",
    "            \n",
    "    dummies = [\n",
    "     'result',\n",
    "     'have_worked_in_hospital_care_facility',\n",
    "     'have_worked_in_hospital_clinic',\n",
    "     'have_worked_in_hospital_home_health',\n",
    "     'have_worked_in_hospital_inpatient',\n",
    "     'have_worked_in_hospital_other',\n",
    "     'have_worked_in_hospital_outpatient',\n",
    "     'have_worked_in_hospital_school_clinic',\n",
    "     'contact_health_worker',\n",
    "     'gender',\n",
    "     'hcw',\n",
    "     'need_inside_help',\n",
    "     'need_outside_help',\n",
    "     'needs_help',\n",
    "     'housebound_problems',\n",
    "     'help_available',\n",
    "     'mobility_aid',\n",
    "     'has_diabetes',\n",
    "     'has_heart_disease',\n",
    "     'has_lung_disease',\n",
    "     'has_kidney_disease',\n",
    "     'persistent_cough',\n",
    "     'fatigue',\n",
    "     'delirium',\n",
    "     'shortness_of_breath',\n",
    "     'fever',\n",
    "     'diarrhoea',\n",
    "     'abdominal_pain',\n",
    "     'chest_pain',\n",
    "     'hoarse_voice',\n",
    "     'skipped_meals',\n",
    "     'loss_of_smell',\n",
    "     'headache',\n",
    "     'eye_soreness',\n",
    "     'nausea',\n",
    "     'dizzy_light_headed',\n",
    "     'red_welts_on_face_or_lips',\n",
    "     'blisters_on_feet',\n",
    "     'unusual_muscle_pains',\n",
    "     'sore_throat'\n",
    "    ]\n",
    "\n",
    "    data['study_day'] = (pd.to_datetime(data.day_updated_at) - (pd.to_datetime(data.invite_date) - timedelta(days=1))).dt.days\n",
    "    data = data[data.study_day <3]\n",
    "    \n",
    "    sob_f_dict = {'mild':1, 'severe':1, 'no':0, 'significant':1, np.nan: 0}\n",
    "    data[['shortness_of_breath', 'fatigue']] = data[['shortness_of_breath', 'fatigue']].applymap(lambda x: sob_f_dict[x])\n",
    "    data[dummies] = data[dummies].fillna(0).astype(int)\n",
    "    data['bmi_clean'] = data['bmi_clean'].replace(np.inf,data[(data['bmi_clean'] >= 15) | (data['bmi_clean'] < 66)].bmi_clean.median())\n",
    "    # replace BMI outliers with the median\n",
    "    data['bmi_clean'] = np.where(\n",
    "        (data['bmi_clean'] < 15) | (data['bmi_clean'] > 66), data[(data['bmi_clean'] >= 15) | (data['bmi_clean'] < 66)].bmi_clean.median(), data['bmi_clean']\n",
    "    )\n",
    "    \n",
    "    df_agg = data.groupby(['test_id'])[features + [target]].max().reset_index()\n",
    "    \n",
    "    X = df_agg.drop(columns = ['result', 'test_id', 'date_taken_specific'])\n",
    "    y = df_agg['result']\n",
    "    \n",
    "    return X, y"
   ]
  },
  {
   "cell_type": "code",
   "execution_count": null,
   "metadata": {},
   "outputs": [],
   "source": [
    "# Get sensitivity and specificity scores\n",
    "def sens_spec(y, yp):\n",
    "    return recall_score(y,yp), classification_report(y, yp, output_dict=True)['False']['recall']"
   ]
  },
  {
   "cell_type": "code",
   "execution_count": null,
   "metadata": {},
   "outputs": [],
   "source": [
    "# Map probability to 4-category classifier\n",
    "def mapping(x):\n",
    "    if x >= thresholds[idx_high_spec]:\n",
    "        return 4\n",
    "    elif  (x < thresholds[idx_high_spec]) & (x >= thresholds[idx_optimal]):\n",
    "        return 3\n",
    "    elif  (x < thresholds[idx_optimal]) & (x >= thresholds[idx_high_sens]):\n",
    "        return 2\n",
    "    else:\n",
    "        return 1      "
   ]
  },
  {
   "cell_type": "code",
   "execution_count": null,
   "metadata": {},
   "outputs": [],
   "source": [
    "# Load test data - replace csv with the validation file\n",
    "test_df = pd.read_csv('../../covid-early-detection/data/NewlyTested_Upto040520.csv', index_col=0).reset_index(drop=True).drop(columns='unusual_muscle_pains')\n",
    "test_df['max_test'] = test_df.max_test.map({1:False,2:True})"
   ]
  },
  {
   "cell_type": "code",
   "execution_count": null,
   "metadata": {},
   "outputs": [],
   "source": [
    "REPS = 50\n",
    "TARGET = ['max_test']"
   ]
  },
  {
   "cell_type": "markdown",
   "metadata": {},
   "source": [
    "## 48 hours predictions"
   ]
  },
  {
   "cell_type": "code",
   "execution_count": null,
   "metadata": {},
   "outputs": [],
   "source": [
    "N = 2"
   ]
  },
  {
   "cell_type": "code",
   "execution_count": null,
   "metadata": {},
   "outputs": [],
   "source": [
    "two_days_test_df = test_df.groupby('patient_id').filter(lambda x: len(x)==N).reset_index(drop=True)"
   ]
  },
  {
   "cell_type": "code",
   "execution_count": null,
   "metadata": {},
   "outputs": [],
   "source": [
    "clf, idx_optimal, idx_high_sens, idx_high_spec, thresholds, fpr, tpr, FEATURES, ALL_SYMPTOMS, PAT_FEATURES = load('./Grouped_RF_2_12_05.joblib')"
   ]
  },
  {
   "cell_type": "code",
   "execution_count": null,
   "metadata": {},
   "outputs": [],
   "source": [
    "grouped_test_df = pd.concat([two_days_test_df.groupby('patient_id')[ALL_SYMPTOMS].agg(lambda x:x.sum()/N),\n",
    "                             two_days_test_df.groupby('patient_id')[PAT_FEATURES+TARGET].mean()], axis=1).reset_index(drop=True)"
   ]
  },
  {
   "cell_type": "code",
   "execution_count": null,
   "metadata": {},
   "outputs": [],
   "source": [
    "auc_vals = []\n",
    "sens_vals = []\n",
    "spec_vals = []\n",
    "cl_types = []\n",
    "res_list = []\n",
    "\n",
    "for r in range(REPS):\n",
    "    \n",
    "    ids = resample(grouped_test_df.index.unique())\n",
    "    X_test = grouped_test_df.loc[grouped_test_df.index.isin(ids), FEATURES]\n",
    "    y_test = grouped_test_df.loc[grouped_test_df.index.isin(ids), TARGET].values[:,0]\n",
    "    X_test.loc[:,'p_predicted_covid'] = clf.predict_proba(X_test.loc[:, FEATURES])[:,1]\n",
    "\n",
    "    nhs_prediction = (X_test['fever']+X_test['loss_of_smell']+X_test['persistent_cough'])>0\n",
    "    true_y = y_test\n",
    "    \n",
    "    cl_type = 'nhs'\n",
    "    cl_types.append(cl_type)\n",
    "    auc_vals.append(roc_auc_score(true_y, nhs_prediction))\n",
    "    sens_nhs, spec_nhs = sens_spec(true_y, nhs_prediction)\n",
    "    sens_vals.append(sens_nhs)\n",
    "    spec_vals.append(spec_nhs)\n",
    "    \n",
    "    for cl_type, idx in zip(['optimal','high sensitivity', 'high specificity'], [idx_optimal, idx_high_sens, idx_high_spec]):\n",
    "        \n",
    "        X_test.loc[:,'predicted_covid'] = X_test.loc[:,'p_predicted_covid'] >thresholds[idx]\n",
    "\n",
    "        predicted_covid = X_test.predicted_covid\n",
    "        p_predicted_covid = X_test.p_predicted_covid\n",
    "        cl_types.append(cl_type)\n",
    "        auc_vals.append(roc_auc_score(true_y, p_predicted_covid))\n",
    "        sens_val, spec_val = sens_spec(true_y, predicted_covid)\n",
    "        sens_vals.append(sens_val)\n",
    "        spec_vals.append(spec_val) \n",
    "    \n",
    "    X_test.loc[:,'4cat_predicted_covid'] = list(map(lambda x: mapping(x), X_test.loc[:,'p_predicted_covid']))\n",
    "    aux_df = pd.concat([X_test.reset_index(drop=True), pd.DataFrame(y_test,columns=['swab_test'])], axis=1)\n",
    "    res_list.append(aux_df.groupby(['4cat_predicted_covid','swab_test']).size().reset_index().pivot_table(index='4cat_predicted_covid',columns='swab_test',values=0))\n",
    "\n",
    "\n",
    "aux_df = pd.DataFrame({'cl_type':cl_types, 'Sensitivity': sens_vals, 'Specificity': spec_vals})\n",
    "results_1_df = aux_df.groupby(['cl_type'])[['Sensitivity','Specificity']].agg(['mean','std']).reset_index()\n",
    "results_2_df = pd.concat(res_list, axis=0).groupby('4cat_predicted_covid').mean()"
   ]
  },
  {
   "cell_type": "code",
   "execution_count": null,
   "metadata": {},
   "outputs": [],
   "source": [
    "round(results_1_df,2)"
   ]
  },
  {
   "cell_type": "code",
   "execution_count": null,
   "metadata": {},
   "outputs": [],
   "source": [
    "results_2_df/results_2_df.sum().sum()*100"
   ]
  },
  {
   "cell_type": "code",
   "execution_count": null,
   "metadata": {},
   "outputs": [],
   "source": [
    "results_2_df/results_2_df.sum()*100"
   ]
  },
  {
   "cell_type": "code",
   "execution_count": null,
   "metadata": {},
   "outputs": [],
   "source": []
  },
  {
   "cell_type": "markdown",
   "metadata": {},
   "source": [
    "## 72 hours predictions"
   ]
  },
  {
   "cell_type": "code",
   "execution_count": null,
   "metadata": {},
   "outputs": [],
   "source": [
    "N = 3"
   ]
  },
  {
   "cell_type": "code",
   "execution_count": null,
   "metadata": {},
   "outputs": [],
   "source": [
    "three_days_test_df = test_df.groupby('patient_id').filter(lambda x: len(x)==N).reset_index(drop=True)"
   ]
  },
  {
   "cell_type": "code",
   "execution_count": null,
   "metadata": {},
   "outputs": [],
   "source": [
    "clf, idx_optimal, idx_high_sens, idx_high_spec, thresholds, fpr, tpr, FEATURES, ALL_SYMPTOMS, PAT_FEATURES = load('./Grouped_RF_3_12_05.joblib')"
   ]
  },
  {
   "cell_type": "code",
   "execution_count": null,
   "metadata": {},
   "outputs": [],
   "source": [
    "grouped_test_df = pd.concat([three_days_test_df.groupby('patient_id')[ALL_SYMPTOMS].agg(lambda x:x.sum()/N),\n",
    "                             three_days_test_df.groupby('patient_id')[PAT_FEATURES+TARGET].mean()], axis=1).reset_index(drop=True)"
   ]
  },
  {
   "cell_type": "code",
   "execution_count": null,
   "metadata": {},
   "outputs": [],
   "source": []
  },
  {
   "cell_type": "code",
   "execution_count": null,
   "metadata": {},
   "outputs": [],
   "source": [
    "auc_vals = []\n",
    "sens_vals = []\n",
    "spec_vals = []\n",
    "cl_types = []\n",
    "res_list = []\n",
    "\n",
    "for r in range(REPS):\n",
    "    \n",
    "    ids = resample(grouped_test_df.index.unique())\n",
    "    X_test = grouped_test_df.loc[grouped_test_df.index.isin(ids), FEATURES]\n",
    "    y_test = grouped_test_df.loc[grouped_test_df.index.isin(ids), TARGET].values[:,0]\n",
    "    X_test.loc[:,'p_predicted_covid'] = clf.predict_proba(X_test.loc[:, FEATURES])[:,1]\n",
    "    \n",
    "    nhs_prediction = (X_test['fever']+X_test['loss_of_smell']+X_test['persistent_cough'])>0\n",
    "    true_y =  y_test\n",
    "    \n",
    "    cl_type = 'nhs'\n",
    "    cl_types.append(cl_type)\n",
    "    auc_vals.append(roc_auc_score(true_y, nhs_prediction))\n",
    "    sens_nhs, spec_nhs = sens_spec(true_y, nhs_prediction)\n",
    "    sens_vals.append(sens_nhs)\n",
    "    spec_vals.append(spec_nhs)\n",
    "\n",
    "    for cl_type, idx in zip(['optimal','high sensitivity', 'high specificity'], [idx_optimal, idx_high_sens, idx_high_spec]):\n",
    "        \n",
    "        X_test.loc[:,'predicted_covid'] = X_test.loc[:,'p_predicted_covid'] >thresholds[idx]\n",
    "        \n",
    "        predicted_covid = X_test.predicted_covid\n",
    "        p_predicted_covid = X_test.p_predicted_covid\n",
    "        \n",
    "        cl_types.append(cl_type)\n",
    "        auc_vals.append(roc_auc_score(true_y, p_predicted_covid))\n",
    "        sens_val, spec_val = sens_spec(true_y, predicted_covid)\n",
    "        sens_vals.append(sens_val)\n",
    "        spec_vals.append(spec_val)\n",
    "    \n",
    "    X_test.loc[:,'4cat_predicted_covid'] = list(map(lambda x: mapping(x), X_test.loc[:,'p_predicted_covid']))\n",
    "    aux_df = pd.concat([X_test.reset_index(drop=True), pd.DataFrame(y_test,columns=['swab_test'])], axis=1)\n",
    "    res_list.append(aux_df.groupby(['4cat_predicted_covid','swab_test']).size().reset_index().pivot_table(index='4cat_predicted_covid',columns='swab_test',values=0))\n",
    "\n",
    "\n",
    "aux_df = pd.DataFrame({'cl_type':cl_types, 'Sensitivity': sens_vals, 'Specificity': spec_vals})\n",
    "results_1_df = aux_df.groupby(['cl_type'])[['Sensitivity','Specificity']].agg(['mean','std']).reset_index()\n",
    "results_2_df = pd.concat(res_list, axis=0).groupby('4cat_predicted_covid').mean()"
   ]
  },
  {
   "cell_type": "code",
   "execution_count": null,
   "metadata": {},
   "outputs": [],
   "source": [
    "round(results_1_df,2)"
   ]
  },
  {
   "cell_type": "code",
   "execution_count": null,
   "metadata": {},
   "outputs": [],
   "source": [
    "results_2_df/results_2_df.sum().sum()*100"
   ]
  },
  {
   "cell_type": "code",
   "execution_count": null,
   "metadata": {},
   "outputs": [],
   "source": [
    "results_2_df/results_2_df.sum()*100"
   ]
  },
  {
   "cell_type": "code",
   "execution_count": null,
   "metadata": {},
   "outputs": [],
   "source": []
  },
  {
   "cell_type": "markdown",
   "metadata": {},
   "source": [
    "## Logit model (72 hours predictions)\n",
    "\n",
    "This model requires slightly different preprocessing on the validation file"
   ]
  },
  {
   "cell_type": "code",
   "execution_count": null,
   "metadata": {},
   "outputs": [],
   "source": [
    "TARGET='result'"
   ]
  },
  {
   "cell_type": "code",
   "execution_count": null,
   "metadata": {},
   "outputs": [],
   "source": [
    "clf, idx_optimal, idx_high_sens, idx_high_spec, thresholds, fpr, tpr, FEATURES, ALL_SYMPTOMS, PAT_FEATURES = load('./Logit_16_11.joblib')"
   ]
  },
  {
   "cell_type": "code",
   "execution_count": null,
   "metadata": {},
   "outputs": [],
   "source": [
    "# replace this with your path to the validation file\n",
    "path = '../../anna-may-data-science/hackathon/data/val_set.csv'\n",
    "test_df = pd.read_csv(path)"
   ]
  },
  {
   "cell_type": "code",
   "execution_count": null,
   "metadata": {},
   "outputs": [],
   "source": [
    "grouped_test_df, processed_y = preproc(test_df[test_df.official], FEATURES, TARGET)\n",
    "grouped_test_df[TARGET] = processed_y"
   ]
  },
  {
   "cell_type": "code",
   "execution_count": null,
   "metadata": {},
   "outputs": [],
   "source": [
    "FEATURES.remove('date_taken_specific')"
   ]
  },
  {
   "cell_type": "code",
   "execution_count": null,
   "metadata": {},
   "outputs": [],
   "source": [
    "auc_vals = []\n",
    "sens_vals = []\n",
    "spec_vals = []\n",
    "cl_types = []\n",
    "res_list = []\n",
    "\n",
    "for r in range(REPS):\n",
    "    \n",
    "    ids = resample(grouped_test_df.index.unique())\n",
    "    X_test = grouped_test_df.loc[grouped_test_df.index.isin(ids), FEATURES]\n",
    "    y_test = np.array(grouped_test_df.loc[grouped_test_df.index.isin(ids), TARGET].values, dtype=bool)\n",
    "    X_test.loc[:,'p_predicted_covid'] = clf.predict_proba(X_test.loc[:, FEATURES])[:,1]\n",
    "    \n",
    "    nhs_prediction = (X_test['fever']+X_test['loss_of_smell']+X_test['persistent_cough'])>0\n",
    "    true_y =  y_test\n",
    "    \n",
    "    cl_type = 'nhs'\n",
    "    cl_types.append(cl_type)\n",
    "    auc_vals.append(roc_auc_score(true_y, nhs_prediction))\n",
    "    sens_nhs, spec_nhs = sens_spec(true_y, nhs_prediction)\n",
    "    sens_vals.append(sens_nhs)\n",
    "    spec_vals.append(spec_nhs)\n",
    "\n",
    "    for cl_type, idx in zip(['optimal','high sensitivity', 'high specificity'], [idx_optimal, idx_high_sens, idx_high_spec]):\n",
    "        \n",
    "        X_test.loc[:,'predicted_covid'] = X_test.loc[:,'p_predicted_covid'] >thresholds[idx]\n",
    "        \n",
    "        predicted_covid = X_test.predicted_covid\n",
    "        p_predicted_covid = X_test.p_predicted_covid\n",
    "\n",
    "        cl_types.append(cl_type)\n",
    "        auc_vals.append(roc_auc_score(true_y, p_predicted_covid))\n",
    "        sens_val, spec_val = sens_spec(true_y, predicted_covid)\n",
    "        sens_vals.append(sens_val)\n",
    "        spec_vals.append(spec_val)\n",
    "    \n",
    "    X_test.loc[:,'4cat_predicted_covid'] = list(map(lambda x: mapping(x), X_test.loc[:,'p_predicted_covid']))\n",
    "    aux_df = pd.concat([X_test.reset_index(drop=True), pd.DataFrame(y_test,columns=['swab_test'])], axis=1)\n",
    "    res_list.append(aux_df.groupby(['4cat_predicted_covid','swab_test']).size().reset_index().pivot_table(index='4cat_predicted_covid',columns='swab_test',values=0))\n",
    "\n",
    "\n",
    "aux_df = pd.DataFrame({'cl_type':cl_types, 'Sensitivity': sens_vals, 'Specificity': spec_vals})\n",
    "results_1_df = aux_df.groupby(['cl_type'])[['Sensitivity','Specificity']].agg(['mean','std']).reset_index()\n",
    "results_2_df = pd.concat(res_list, axis=0).groupby('4cat_predicted_covid').mean()"
   ]
  },
  {
   "cell_type": "code",
   "execution_count": null,
   "metadata": {},
   "outputs": [],
   "source": [
    "round(results_1_df,2)"
   ]
  },
  {
   "cell_type": "code",
   "execution_count": null,
   "metadata": {},
   "outputs": [],
   "source": [
    "results_2_df/results_2_df.sum().sum()*100"
   ]
  },
  {
   "cell_type": "code",
   "execution_count": null,
   "metadata": {},
   "outputs": [],
   "source": [
    "results_2_df/results_2_df.sum()*100"
   ]
  },
  {
   "cell_type": "code",
   "execution_count": null,
   "metadata": {},
   "outputs": [],
   "source": []
  }
 ],
 "metadata": {
  "kernelspec": {
   "display_name": "base",
   "language": "python",
   "name": "base"
  },
  "language_info": {
   "codemirror_mode": {
    "name": "ipython",
    "version": 3
   },
   "file_extension": ".py",
   "mimetype": "text/x-python",
   "name": "python",
   "nbconvert_exporter": "python",
   "pygments_lexer": "ipython3",
   "version": "3.8.3"
  }
 },
 "nbformat": 4,
 "nbformat_minor": 4
}
